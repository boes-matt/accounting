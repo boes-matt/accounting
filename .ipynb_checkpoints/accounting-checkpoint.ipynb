{
 "metadata": {
  "name": "",
  "signature": "sha256:ff155248f064e0fe0b1a00e1e39d300dd949beeb484a7618ac73fed869c52589"
 },
 "nbformat": 3,
 "nbformat_minor": 0,
 "worksheets": [
  {
   "cells": [
    {
     "cell_type": "heading",
     "level": 1,
     "metadata": {},
     "source": [
      "Accounting data in Python"
     ]
    },
    {
     "cell_type": "markdown",
     "metadata": {},
     "source": [
      "Download python distribution for data analysis.<br/>\n",
      "http://continuum.io/downloads<br/>\n",
      "<br/>\n",
      "Install and run Launcher app.<br/>\n",
      "Install and launch ipython-notebook.<br/>\n",
      "Run <code>git clone https://github.com/boes-matt/accounting.git</code> in terminal.<br/>\n",
      "Navigate to accounting.ipynb in accounting directory to run this notebook.<br/>\n",
      "<br/>\n",
      "Run code in In[x] with Shift-Enter."
     ]
    },
    {
     "cell_type": "markdown",
     "metadata": {},
     "source": [
      "Check out other useful notebooks with examples at https://www.wakari.io/gallery.<br/>\n",
      "Wakari also lets you create, run, and share IPython notebooks completely in the browser."
     ]
    },
    {
     "cell_type": "code",
     "collapsed": false,
     "input": [
      "ls"
     ],
     "language": "python",
     "metadata": {},
     "outputs": [
      {
       "output_type": "stream",
       "stream": "stdout",
       "text": [
        "accounting.ipynb       select_stata_lnds.csv  stata.dta\r\n"
       ]
      }
     ],
     "prompt_number": 2
    },
    {
     "cell_type": "markdown",
     "metadata": {},
     "source": [
      "Launch IPython console to interactively try out Python code.<br/>\n",
      "Make use of object?, object??, and %magic in console and notebook for help."
     ]
    },
    {
     "cell_type": "code",
     "collapsed": false,
     "input": [
      "%qtconsole"
     ],
     "language": "python",
     "metadata": {},
     "outputs": [],
     "prompt_number": 6
    },
    {
     "cell_type": "markdown",
     "metadata": {},
     "source": [
      "Import the pandas library module.<br/>\n",
      "Read documentation at http://pandas.pydata.org/pandas-docs/stable/index.html.<br/>\n",
      "See 10 minute tutorial at http://pandas.pydata.org/pandas-docs/stable/10min.html."
     ]
    },
    {
     "cell_type": "code",
     "collapsed": false,
     "input": [
      "import pandas as pd"
     ],
     "language": "python",
     "metadata": {},
     "outputs": [],
     "prompt_number": 1
    },
    {
     "cell_type": "code",
     "collapsed": false,
     "input": [
      "pd?"
     ],
     "language": "python",
     "metadata": {},
     "outputs": [],
     "prompt_number": 4
    },
    {
     "cell_type": "heading",
     "level": 2,
     "metadata": {},
     "source": [
      "Import data from CSV file"
     ]
    },
    {
     "cell_type": "code",
     "collapsed": false,
     "input": [
      "df = pd.read_csv('select_stata_lnds.csv')"
     ],
     "language": "python",
     "metadata": {},
     "outputs": [],
     "prompt_number": 5
    },
    {
     "cell_type": "code",
     "collapsed": false,
     "input": [
      "df.head()"
     ],
     "language": "python",
     "metadata": {},
     "outputs": [
      {
       "html": [
        "<div style=\"max-height:1000px;max-width:1500px;overflow:auto;\">\n",
        "<table border=\"1\" class=\"dataframe\">\n",
        "  <thead>\n",
        "    <tr style=\"text-align: right;\">\n",
        "      <th></th>\n",
        "      <th>mw</th>\n",
        "      <th>mw_tax</th>\n",
        "      <th>mw_nontax</th>\n",
        "      <th>AUDITOR_RESIGNED</th>\n",
        "      <th>big4</th>\n",
        "      <th>gvkey</th>\n",
        "      <th>lmarketcap</th>\n",
        "      <th>aggloss</th>\n",
        "      <th>influence</th>\n",
        "      <th>lsegcount</th>\n",
        "      <th>...</th>\n",
        "      <th>roa</th>\n",
        "      <th>taxnas</th>\n",
        "      <th>tenure</th>\n",
        "      <th>ppe</th>\n",
        "      <th>eqinc</th>\n",
        "      <th>rd</th>\n",
        "      <th>lev</th>\n",
        "      <th>cash</th>\n",
        "      <th>dep</th>\n",
        "      <th>sectier</th>\n",
        "    </tr>\n",
        "  </thead>\n",
        "  <tbody>\n",
        "    <tr>\n",
        "      <th>0</th>\n",
        "      <td> 0</td>\n",
        "      <td> 0</td>\n",
        "      <td> 0</td>\n",
        "      <td> 0</td>\n",
        "      <td> 1</td>\n",
        "      <td> 1004</td>\n",
        "      <td> 6.258968</td>\n",
        "      <td> 0</td>\n",
        "      <td> 0.012371</td>\n",
        "      <td> 1.386294</td>\n",
        "      <td>...</td>\n",
        "      <td> 0.021104</td>\n",
        "      <td> 1</td>\n",
        "      <td> 19</td>\n",
        "      <td> 0.196163</td>\n",
        "      <td> 0.000801</td>\n",
        "      <td>NaN</td>\n",
        "      <td> 0.310229</td>\n",
        "      <td> 0.055321</td>\n",
        "      <td> 0.038171</td>\n",
        "      <td> 0</td>\n",
        "    </tr>\n",
        "    <tr>\n",
        "      <th>1</th>\n",
        "      <td> 0</td>\n",
        "      <td> 0</td>\n",
        "      <td> 0</td>\n",
        "      <td> 0</td>\n",
        "      <td> 1</td>\n",
        "      <td> 1004</td>\n",
        "      <td> 6.782904</td>\n",
        "      <td> 0</td>\n",
        "      <td> 0.010135</td>\n",
        "      <td> 1.386294</td>\n",
        "      <td>...</td>\n",
        "      <td> 0.035924</td>\n",
        "      <td> 1</td>\n",
        "      <td> 20</td>\n",
        "      <td> 0.291411</td>\n",
        "      <td> 0.002051</td>\n",
        "      <td>NaN</td>\n",
        "      <td> 0.325470</td>\n",
        "      <td> 0.124372</td>\n",
        "      <td> 0.029854</td>\n",
        "      <td> 0</td>\n",
        "    </tr>\n",
        "    <tr>\n",
        "      <th>2</th>\n",
        "      <td> 0</td>\n",
        "      <td> 0</td>\n",
        "      <td> 0</td>\n",
        "      <td> 0</td>\n",
        "      <td> 1</td>\n",
        "      <td> 1004</td>\n",
        "      <td> 7.111669</td>\n",
        "      <td> 0</td>\n",
        "      <td> 0.012841</td>\n",
        "      <td> 1.386294</td>\n",
        "      <td>...</td>\n",
        "      <td> 0.054944</td>\n",
        "      <td> 1</td>\n",
        "      <td> 21</td>\n",
        "      <td> 0.265797</td>\n",
        "      <td> 0.011189</td>\n",
        "      <td>NaN</td>\n",
        "      <td> 0.237545</td>\n",
        "      <td> 0.078039</td>\n",
        "      <td> 0.030159</td>\n",
        "      <td> 0</td>\n",
        "    </tr>\n",
        "    <tr>\n",
        "      <th>3</th>\n",
        "      <td> 0</td>\n",
        "      <td> 0</td>\n",
        "      <td> 0</td>\n",
        "      <td> 0</td>\n",
        "      <td> 1</td>\n",
        "      <td> 1004</td>\n",
        "      <td> 6.616792</td>\n",
        "      <td> 0</td>\n",
        "      <td> 0.012339</td>\n",
        "      <td> 1.386294</td>\n",
        "      <td>...</td>\n",
        "      <td> 0.055171</td>\n",
        "      <td> 1</td>\n",
        "      <td> 22</td>\n",
        "      <td> 0.290730</td>\n",
        "      <td> 0.005571</td>\n",
        "      <td>NaN</td>\n",
        "      <td> 0.372918</td>\n",
        "      <td> 0.080316</td>\n",
        "      <td> 0.029333</td>\n",
        "      <td> 0</td>\n",
        "    </tr>\n",
        "    <tr>\n",
        "      <th>4</th>\n",
        "      <td> 0</td>\n",
        "      <td> 0</td>\n",
        "      <td> 0</td>\n",
        "      <td> 0</td>\n",
        "      <td> 1</td>\n",
        "      <td> 1004</td>\n",
        "      <td> 6.348430</td>\n",
        "      <td> 0</td>\n",
        "      <td> 0.015412</td>\n",
        "      <td> 1.386294</td>\n",
        "      <td>...</td>\n",
        "      <td> 0.057096</td>\n",
        "      <td> 1</td>\n",
        "      <td> 23</td>\n",
        "      <td> 0.180311</td>\n",
        "      <td> 0.006238</td>\n",
        "      <td>NaN</td>\n",
        "      <td> 0.285286</td>\n",
        "      <td> 0.081673</td>\n",
        "      <td> 0.029438</td>\n",
        "      <td> 0</td>\n",
        "    </tr>\n",
        "  </tbody>\n",
        "</table>\n",
        "<p>5 rows \u00d7 39 columns</p>\n",
        "</div>"
       ],
       "metadata": {},
       "output_type": "pyout",
       "prompt_number": 6,
       "text": [
        "   mw  mw_tax  mw_nontax  AUDITOR_RESIGNED  big4  gvkey  lmarketcap  aggloss  \\\n",
        "0   0       0          0                 0     1   1004    6.258968        0   \n",
        "1   0       0          0                 0     1   1004    6.782904        0   \n",
        "2   0       0          0                 0     1   1004    7.111669        0   \n",
        "3   0       0          0                 0     1   1004    6.616792        0   \n",
        "4   0       0          0                 0     1   1004    6.348430        0   \n",
        "\n",
        "   influence  lsegcount    ...           roa  taxnas  tenure       ppe  \\\n",
        "0   0.012371   1.386294    ...      0.021104       1      19  0.196163   \n",
        "1   0.010135   1.386294    ...      0.035924       1      20  0.291411   \n",
        "2   0.012841   1.386294    ...      0.054944       1      21  0.265797   \n",
        "3   0.012339   1.386294    ...      0.055171       1      22  0.290730   \n",
        "4   0.015412   1.386294    ...      0.057096       1      23  0.180311   \n",
        "\n",
        "      eqinc  rd       lev      cash       dep  sectier  \n",
        "0  0.000801 NaN  0.310229  0.055321  0.038171        0  \n",
        "1  0.002051 NaN  0.325470  0.124372  0.029854        0  \n",
        "2  0.011189 NaN  0.237545  0.078039  0.030159        0  \n",
        "3  0.005571 NaN  0.372918  0.080316  0.029333        0  \n",
        "4  0.006238 NaN  0.285286  0.081673  0.029438        0  \n",
        "\n",
        "[5 rows x 39 columns]"
       ]
      }
     ],
     "prompt_number": 6
    },
    {
     "cell_type": "code",
     "collapsed": false,
     "input": [
      "df.describe()"
     ],
     "language": "python",
     "metadata": {},
     "outputs": [
      {
       "html": [
        "<div style=\"max-height:1000px;max-width:1500px;overflow:auto;\">\n",
        "<table border=\"1\" class=\"dataframe\">\n",
        "  <thead>\n",
        "    <tr style=\"text-align: right;\">\n",
        "      <th></th>\n",
        "      <th>mw</th>\n",
        "      <th>mw_tax</th>\n",
        "      <th>mw_nontax</th>\n",
        "      <th>AUDITOR_RESIGNED</th>\n",
        "      <th>big4</th>\n",
        "      <th>gvkey</th>\n",
        "      <th>lmarketcap</th>\n",
        "      <th>aggloss</th>\n",
        "      <th>influence</th>\n",
        "      <th>lsegcount</th>\n",
        "      <th>...</th>\n",
        "      <th>roa</th>\n",
        "      <th>taxnas</th>\n",
        "      <th>tenure</th>\n",
        "      <th>ppe</th>\n",
        "      <th>eqinc</th>\n",
        "      <th>rd</th>\n",
        "      <th>lev</th>\n",
        "      <th>cash</th>\n",
        "      <th>dep</th>\n",
        "      <th>sectier</th>\n",
        "    </tr>\n",
        "  </thead>\n",
        "  <tbody>\n",
        "    <tr>\n",
        "      <th>count</th>\n",
        "      <td> 32048.000000</td>\n",
        "      <td> 32048.000000</td>\n",
        "      <td> 32048.000000</td>\n",
        "      <td> 32048.000000</td>\n",
        "      <td> 32048.000000</td>\n",
        "      <td>  32048.000000</td>\n",
        "      <td> 32048.000000</td>\n",
        "      <td> 32048.000000</td>\n",
        "      <td> 32048.000000</td>\n",
        "      <td> 32048.000000</td>\n",
        "      <td>...</td>\n",
        "      <td> 32048.000000</td>\n",
        "      <td> 32048.000000</td>\n",
        "      <td> 32048.000000</td>\n",
        "      <td> 30731.000000</td>\n",
        "      <td> 26029.000000</td>\n",
        "      <td> 16220.000000</td>\n",
        "      <td> 32030.000000</td>\n",
        "      <td> 31498.000000</td>\n",
        "      <td> 30606.000000</td>\n",
        "      <td> 32048.000000</td>\n",
        "    </tr>\n",
        "    <tr>\n",
        "      <th>mean</th>\n",
        "      <td>     0.066432</td>\n",
        "      <td>     0.020001</td>\n",
        "      <td>     0.046430</td>\n",
        "      <td>     0.010515</td>\n",
        "      <td>     0.830785</td>\n",
        "      <td>  67694.952228</td>\n",
        "      <td>     6.852707</td>\n",
        "      <td>     0.256397</td>\n",
        "      <td>     0.135599</td>\n",
        "      <td>     1.016589</td>\n",
        "      <td>...</td>\n",
        "      <td>     0.025110</td>\n",
        "      <td>     0.734149</td>\n",
        "      <td>    12.894814</td>\n",
        "      <td>     0.272630</td>\n",
        "      <td>     0.001337</td>\n",
        "      <td>     0.089823</td>\n",
        "      <td>     0.187501</td>\n",
        "      <td>     0.124472</td>\n",
        "      <td>     0.036217</td>\n",
        "      <td>     0.072922</td>\n",
        "    </tr>\n",
        "    <tr>\n",
        "      <th>std</th>\n",
        "      <td>     0.249039</td>\n",
        "      <td>     0.140006</td>\n",
        "      <td>     0.210419</td>\n",
        "      <td>     0.102006</td>\n",
        "      <td>     0.374947</td>\n",
        "      <td>  66347.871385</td>\n",
        "      <td>     1.772469</td>\n",
        "      <td>     0.436650</td>\n",
        "      <td>     0.221052</td>\n",
        "      <td>     0.751342</td>\n",
        "      <td>...</td>\n",
        "      <td>     1.949497</td>\n",
        "      <td>     0.441792</td>\n",
        "      <td>    16.132176</td>\n",
        "      <td>     0.509042</td>\n",
        "      <td>     0.014047</td>\n",
        "      <td>     0.179617</td>\n",
        "      <td>     0.224540</td>\n",
        "      <td>     0.154166</td>\n",
        "      <td>     0.036410</td>\n",
        "      <td>     0.260012</td>\n",
        "    </tr>\n",
        "    <tr>\n",
        "      <th>min</th>\n",
        "      <td>     0.000000</td>\n",
        "      <td>     0.000000</td>\n",
        "      <td>     0.000000</td>\n",
        "      <td>     0.000000</td>\n",
        "      <td>     0.000000</td>\n",
        "      <td>   1004.000000</td>\n",
        "      <td>    -0.066618</td>\n",
        "      <td>     0.000000</td>\n",
        "      <td>     0.000128</td>\n",
        "      <td>     0.000000</td>\n",
        "      <td>...</td>\n",
        "      <td>   -33.807075</td>\n",
        "      <td>     0.000000</td>\n",
        "      <td>     0.000000</td>\n",
        "      <td>     0.000000</td>\n",
        "      <td>    -0.291055</td>\n",
        "      <td>     0.000000</td>\n",
        "      <td>     0.000000</td>\n",
        "      <td>     0.000000</td>\n",
        "      <td>     0.000000</td>\n",
        "      <td>     0.000000</td>\n",
        "    </tr>\n",
        "    <tr>\n",
        "      <th>25%</th>\n",
        "      <td>     0.000000</td>\n",
        "      <td>     0.000000</td>\n",
        "      <td>     0.000000</td>\n",
        "      <td>     0.000000</td>\n",
        "      <td>     1.000000</td>\n",
        "      <td>  11606.750000</td>\n",
        "      <td>     5.542507</td>\n",
        "      <td>     0.000000</td>\n",
        "      <td>     0.015115</td>\n",
        "      <td>     0.693147</td>\n",
        "      <td>...</td>\n",
        "      <td>    -0.000776</td>\n",
        "      <td>     0.000000</td>\n",
        "      <td>     4.000000</td>\n",
        "      <td>     0.038613</td>\n",
        "      <td>     0.000000</td>\n",
        "      <td>     0.002106</td>\n",
        "      <td>     0.006382</td>\n",
        "      <td>     0.021114</td>\n",
        "      <td>     0.014079</td>\n",
        "      <td>     0.000000</td>\n",
        "    </tr>\n",
        "    <tr>\n",
        "      <th>50%</th>\n",
        "      <td>     0.000000</td>\n",
        "      <td>     0.000000</td>\n",
        "      <td>     0.000000</td>\n",
        "      <td>     0.000000</td>\n",
        "      <td>     1.000000</td>\n",
        "      <td>  29850.000000</td>\n",
        "      <td>     6.673677</td>\n",
        "      <td>     0.000000</td>\n",
        "      <td>     0.046428</td>\n",
        "      <td>     1.098612</td>\n",
        "      <td>...</td>\n",
        "      <td>     0.029579</td>\n",
        "      <td>     1.000000</td>\n",
        "      <td>     8.000000</td>\n",
        "      <td>     0.145795</td>\n",
        "      <td>     0.000000</td>\n",
        "      <td>     0.031302</td>\n",
        "      <td>     0.120357</td>\n",
        "      <td>     0.066462</td>\n",
        "      <td>     0.030258</td>\n",
        "      <td>     0.000000</td>\n",
        "    </tr>\n",
        "    <tr>\n",
        "      <th>75%</th>\n",
        "      <td>     0.000000</td>\n",
        "      <td>     0.000000</td>\n",
        "      <td>     0.000000</td>\n",
        "      <td>     0.000000</td>\n",
        "      <td>     1.000000</td>\n",
        "      <td> 133432.000000</td>\n",
        "      <td>     7.959740</td>\n",
        "      <td>     1.000000</td>\n",
        "      <td>     0.139962</td>\n",
        "      <td>     1.609438</td>\n",
        "      <td>...</td>\n",
        "      <td>     0.072430</td>\n",
        "      <td>     1.000000</td>\n",
        "      <td>    15.000000</td>\n",
        "      <td>     0.395818</td>\n",
        "      <td>     0.000000</td>\n",
        "      <td>     0.109502</td>\n",
        "      <td>     0.293734</td>\n",
        "      <td>     0.168660</td>\n",
        "      <td>     0.048083</td>\n",
        "      <td>     0.000000</td>\n",
        "    </tr>\n",
        "    <tr>\n",
        "      <th>max</th>\n",
        "      <td>     1.000000</td>\n",
        "      <td>     1.000000</td>\n",
        "      <td>     1.000000</td>\n",
        "      <td>     1.000000</td>\n",
        "      <td>     1.000000</td>\n",
        "      <td> 297209.000000</td>\n",
        "      <td>    13.347984</td>\n",
        "      <td>     1.000000</td>\n",
        "      <td>     1.000000</td>\n",
        "      <td>     3.688879</td>\n",
        "      <td>...</td>\n",
        "      <td>   198.669331</td>\n",
        "      <td>     1.000000</td>\n",
        "      <td>   123.000000</td>\n",
        "      <td>    62.114084</td>\n",
        "      <td>     0.578107</td>\n",
        "      <td>     5.109203</td>\n",
        "      <td>     5.410918</td>\n",
        "      <td>     1.010369</td>\n",
        "      <td>     2.043293</td>\n",
        "      <td>     1.000000</td>\n",
        "    </tr>\n",
        "  </tbody>\n",
        "</table>\n",
        "<p>8 rows \u00d7 39 columns</p>\n",
        "</div>"
       ],
       "metadata": {},
       "output_type": "pyout",
       "prompt_number": 6,
       "text": [
        "                 mw        mw_tax     mw_nontax  AUDITOR_RESIGNED  \\\n",
        "count  32048.000000  32048.000000  32048.000000      32048.000000   \n",
        "mean       0.066432      0.020001      0.046430          0.010515   \n",
        "std        0.249039      0.140006      0.210419          0.102006   \n",
        "min        0.000000      0.000000      0.000000          0.000000   \n",
        "25%        0.000000      0.000000      0.000000          0.000000   \n",
        "50%        0.000000      0.000000      0.000000          0.000000   \n",
        "75%        0.000000      0.000000      0.000000          0.000000   \n",
        "max        1.000000      1.000000      1.000000          1.000000   \n",
        "\n",
        "               big4          gvkey    lmarketcap       aggloss     influence  \\\n",
        "count  32048.000000   32048.000000  32048.000000  32048.000000  32048.000000   \n",
        "mean       0.830785   67694.952228      6.852707      0.256397      0.135599   \n",
        "std        0.374947   66347.871385      1.772469      0.436650      0.221052   \n",
        "min        0.000000    1004.000000     -0.066618      0.000000      0.000128   \n",
        "25%        1.000000   11606.750000      5.542507      0.000000      0.015115   \n",
        "50%        1.000000   29850.000000      6.673677      0.000000      0.046428   \n",
        "75%        1.000000  133432.000000      7.959740      1.000000      0.139962   \n",
        "max        1.000000  297209.000000     13.347984      1.000000      1.000000   \n",
        "\n",
        "          lsegcount      ...                roa        taxnas        tenure  \\\n",
        "count  32048.000000      ...       32048.000000  32048.000000  32048.000000   \n",
        "mean       1.016589      ...           0.025110      0.734149     12.894814   \n",
        "std        0.751342      ...           1.949497      0.441792     16.132176   \n",
        "min        0.000000      ...         -33.807075      0.000000      0.000000   \n",
        "25%        0.693147      ...          -0.000776      0.000000      4.000000   \n",
        "50%        1.098612      ...           0.029579      1.000000      8.000000   \n",
        "75%        1.609438      ...           0.072430      1.000000     15.000000   \n",
        "max        3.688879      ...         198.669331      1.000000    123.000000   \n",
        "\n",
        "                ppe         eqinc            rd           lev          cash  \\\n",
        "count  30731.000000  26029.000000  16220.000000  32030.000000  31498.000000   \n",
        "mean       0.272630      0.001337      0.089823      0.187501      0.124472   \n",
        "std        0.509042      0.014047      0.179617      0.224540      0.154166   \n",
        "min        0.000000     -0.291055      0.000000      0.000000      0.000000   \n",
        "25%        0.038613      0.000000      0.002106      0.006382      0.021114   \n",
        "50%        0.145795      0.000000      0.031302      0.120357      0.066462   \n",
        "75%        0.395818      0.000000      0.109502      0.293734      0.168660   \n",
        "max       62.114084      0.578107      5.109203      5.410918      1.010369   \n",
        "\n",
        "                dep       sectier  \n",
        "count  30606.000000  32048.000000  \n",
        "mean       0.036217      0.072922  \n",
        "std        0.036410      0.260012  \n",
        "min        0.000000      0.000000  \n",
        "25%        0.014079      0.000000  \n",
        "50%        0.030258      0.000000  \n",
        "75%        0.048083      0.000000  \n",
        "max        2.043293      1.000000  \n",
        "\n",
        "[8 rows x 39 columns]"
       ]
      }
     ],
     "prompt_number": 6
    },
    {
     "cell_type": "code",
     "collapsed": false,
     "input": [
      "df.describe?"
     ],
     "language": "python",
     "metadata": {},
     "outputs": [],
     "prompt_number": 7
    },
    {
     "cell_type": "code",
     "collapsed": false,
     "input": [
      "df.dtypes"
     ],
     "language": "python",
     "metadata": {},
     "outputs": [
      {
       "metadata": {},
       "output_type": "pyout",
       "prompt_number": 9,
       "text": [
        "mw                    int64\n",
        "mw_tax                int64\n",
        "mw_nontax             int64\n",
        "AUDITOR_RESIGNED      int64\n",
        "big4                  int64\n",
        "gvkey                 int64\n",
        "lmarketcap          float64\n",
        "aggloss               int64\n",
        "influence           float64\n",
        "lsegcount           float64\n",
        "fortrans              int64\n",
        "restructuring       float64\n",
        "merger                int64\n",
        "foreignsales        float64\n",
        "nol                 float64\n",
        "extremesg             int64\n",
        "shumwayrank           int64\n",
        "lnaudit             float64\n",
        "lntaxnas            float64\n",
        "lnothernas          float64\n",
        "f2004                 int64\n",
        "f2005                 int64\n",
        "f2006                 int64\n",
        "f2007                 int64\n",
        "f2008                 int64\n",
        "f2009                 int64\n",
        "f2010                 int64\n",
        "f2011                 int64\n",
        "bm                  float64\n",
        "roa                 float64\n",
        "taxnas                int64\n",
        "tenure                int64\n",
        "ppe                 float64\n",
        "eqinc               float64\n",
        "rd                  float64\n",
        "lev                 float64\n",
        "cash                float64\n",
        "dep                 float64\n",
        "sectier               int64\n",
        "dtype: object"
       ]
      }
     ],
     "prompt_number": 9
    },
    {
     "cell_type": "heading",
     "level": 2,
     "metadata": {},
     "source": [
      "Plotting data"
     ]
    },
    {
     "cell_type": "code",
     "collapsed": false,
     "input": [
      "grouping = df.groupby('AUDITOR_RESIGNED')"
     ],
     "language": "python",
     "metadata": {},
     "outputs": [],
     "prompt_number": 19
    },
    {
     "cell_type": "code",
     "collapsed": false,
     "input": [
      "x = grouping.groups.keys()"
     ],
     "language": "python",
     "metadata": {},
     "outputs": [],
     "prompt_number": 20
    },
    {
     "cell_type": "code",
     "collapsed": false,
     "input": [
      "y = grouping['lmarketcap'].mean()"
     ],
     "language": "python",
     "metadata": {},
     "outputs": [],
     "prompt_number": 22
    },
    {
     "cell_type": "code",
     "collapsed": false,
     "input": [
      "%matplotlib inline"
     ],
     "language": "python",
     "metadata": {},
     "outputs": [],
     "prompt_number": 39
    },
    {
     "cell_type": "code",
     "collapsed": false,
     "input": [
      "plot(x,y)"
     ],
     "language": "python",
     "metadata": {},
     "outputs": [
      {
       "metadata": {},
       "output_type": "pyout",
       "prompt_number": 40,
       "text": [
        "[<matplotlib.lines.Line2D at 0x107126c50>]"
       ]
      },
      {
       "metadata": {},
       "output_type": "display_data",
       "png": "[encoded data removed]",
       "text": [
        "<matplotlib.figure.Figure at 0x10a52f750>"
       ]
      }
     ],
     "prompt_number": 40
    },
    {
     "cell_type": "markdown",
     "metadata": {},
     "source": [
      "The market does not like it when your auditor resigns!"
     ]
    },
    {
     "cell_type": "heading",
     "level": 2,
     "metadata": {},
     "source": [
      "Sorted views on data"
     ]
    },
    {
     "cell_type": "code",
     "collapsed": false,
     "input": [
      "df2 = df[df.big4 == 1].sort(columns = 'cash', ascending=False)"
     ],
     "language": "python",
     "metadata": {},
     "outputs": [],
     "prompt_number": 50
    },
    {
     "cell_type": "code",
     "collapsed": false,
     "input": [
      "df2.loc[:,['big4', 'cash', 'foreignsales']].head(10)"
     ],
     "language": "python",
     "metadata": {},
     "outputs": [
      {
       "html": [
        "<div style=\"max-height:1000px;max-width:1500px;overflow:auto;\">\n",
        "<table border=\"1\" class=\"dataframe\">\n",
        "  <thead>\n",
        "    <tr style=\"text-align: right;\">\n",
        "      <th></th>\n",
        "      <th>big4</th>\n",
        "      <th>cash</th>\n",
        "      <th>foreignsales</th>\n",
        "    </tr>\n",
        "  </thead>\n",
        "  <tbody>\n",
        "    <tr>\n",
        "      <th>5291 </th>\n",
        "      <td> 1</td>\n",
        "      <td> 1.000000</td>\n",
        "      <td> 0</td>\n",
        "    </tr>\n",
        "    <tr>\n",
        "      <th>5290 </th>\n",
        "      <td> 1</td>\n",
        "      <td> 1.000000</td>\n",
        "      <td> 1</td>\n",
        "    </tr>\n",
        "    <tr>\n",
        "      <th>25846</th>\n",
        "      <td> 1</td>\n",
        "      <td> 0.995029</td>\n",
        "      <td> 0</td>\n",
        "    </tr>\n",
        "    <tr>\n",
        "      <th>29126</th>\n",
        "      <td> 1</td>\n",
        "      <td> 0.991649</td>\n",
        "      <td> 0</td>\n",
        "    </tr>\n",
        "    <tr>\n",
        "      <th>6978 </th>\n",
        "      <td> 1</td>\n",
        "      <td> 0.989680</td>\n",
        "      <td> 0</td>\n",
        "    </tr>\n",
        "    <tr>\n",
        "      <th>31391</th>\n",
        "      <td> 1</td>\n",
        "      <td> 0.987006</td>\n",
        "      <td> 0</td>\n",
        "    </tr>\n",
        "    <tr>\n",
        "      <th>29127</th>\n",
        "      <td> 1</td>\n",
        "      <td> 0.986910</td>\n",
        "      <td> 0</td>\n",
        "    </tr>\n",
        "    <tr>\n",
        "      <th>26608</th>\n",
        "      <td> 1</td>\n",
        "      <td> 0.983876</td>\n",
        "      <td> 0</td>\n",
        "    </tr>\n",
        "    <tr>\n",
        "      <th>26610</th>\n",
        "      <td> 1</td>\n",
        "      <td> 0.982612</td>\n",
        "      <td> 0</td>\n",
        "    </tr>\n",
        "    <tr>\n",
        "      <th>17420</th>\n",
        "      <td> 1</td>\n",
        "      <td> 0.982185</td>\n",
        "      <td> 0</td>\n",
        "    </tr>\n",
        "  </tbody>\n",
        "</table>\n",
        "</div>"
       ],
       "metadata": {},
       "output_type": "pyout",
       "prompt_number": 57,
       "text": [
        "       big4      cash  foreignsales\n",
        "5291      1  1.000000             0\n",
        "5290      1  1.000000             1\n",
        "25846     1  0.995029             0\n",
        "29126     1  0.991649             0\n",
        "6978      1  0.989680             0\n",
        "31391     1  0.987006             0\n",
        "29127     1  0.986910             0\n",
        "26608     1  0.983876             0\n",
        "26610     1  0.982612             0\n",
        "17420     1  0.982185             0"
       ]
      }
     ],
     "prompt_number": 57
    },
    {
     "cell_type": "heading",
     "level": 2,
     "metadata": {},
     "source": [
      "Export data to Stata format"
     ]
    },
    {
     "cell_type": "code",
     "collapsed": false,
     "input": [
      "df2.to_stata('stata.dta')"
     ],
     "language": "python",
     "metadata": {},
     "outputs": [],
     "prompt_number": 58
    },
    {
     "cell_type": "code",
     "collapsed": false,
     "input": [
      "ls"
     ],
     "language": "python",
     "metadata": {},
     "outputs": [
      {
       "output_type": "stream",
       "stream": "stdout",
       "text": [
        "accounting.ipynb       select_stata_lnds.csv  stata.dta\r\n"
       ]
      }
     ],
     "prompt_number": 59
    },
    {
     "cell_type": "heading",
     "level": 2,
     "metadata": {},
     "source": [
      "Insert and query data from SQL database"
     ]
    },
    {
     "cell_type": "code",
     "collapsed": false,
     "input": [
      "from sqlalchemy import create_engine"
     ],
     "language": "python",
     "metadata": {},
     "outputs": [],
     "prompt_number": 60
    },
    {
     "cell_type": "code",
     "collapsed": false,
     "input": [
      "engine = create_engine('sqlite:///:memory:')"
     ],
     "language": "python",
     "metadata": {},
     "outputs": [],
     "prompt_number": 61
    },
    {
     "cell_type": "code",
     "collapsed": false,
     "input": [
      "df.to_sql('sample', engine)"
     ],
     "language": "python",
     "metadata": {},
     "outputs": [],
     "prompt_number": 62
    },
    {
     "cell_type": "code",
     "collapsed": false,
     "input": [
      "df3 = pd.read_sql('SELECT big4, cash, foreignsales FROM sample WHERE big4 = 1 ORDER BY cash DESC', engine)"
     ],
     "language": "python",
     "metadata": {},
     "outputs": [],
     "prompt_number": 65
    },
    {
     "cell_type": "code",
     "collapsed": false,
     "input": [
      "df3.head(10)"
     ],
     "language": "python",
     "metadata": {},
     "outputs": [
      {
       "html": [
        "<div style=\"max-height:1000px;max-width:1500px;overflow:auto;\">\n",
        "<table border=\"1\" class=\"dataframe\">\n",
        "  <thead>\n",
        "    <tr style=\"text-align: right;\">\n",
        "      <th></th>\n",
        "      <th>big4</th>\n",
        "      <th>cash</th>\n",
        "      <th>foreignsales</th>\n",
        "    </tr>\n",
        "  </thead>\n",
        "  <tbody>\n",
        "    <tr>\n",
        "      <th>0</th>\n",
        "      <td> 1</td>\n",
        "      <td> 1.000000</td>\n",
        "      <td> 1</td>\n",
        "    </tr>\n",
        "    <tr>\n",
        "      <th>1</th>\n",
        "      <td> 1</td>\n",
        "      <td> 1.000000</td>\n",
        "      <td> 0</td>\n",
        "    </tr>\n",
        "    <tr>\n",
        "      <th>2</th>\n",
        "      <td> 1</td>\n",
        "      <td> 0.995029</td>\n",
        "      <td> 0</td>\n",
        "    </tr>\n",
        "    <tr>\n",
        "      <th>3</th>\n",
        "      <td> 1</td>\n",
        "      <td> 0.991649</td>\n",
        "      <td> 0</td>\n",
        "    </tr>\n",
        "    <tr>\n",
        "      <th>4</th>\n",
        "      <td> 1</td>\n",
        "      <td> 0.989680</td>\n",
        "      <td> 0</td>\n",
        "    </tr>\n",
        "    <tr>\n",
        "      <th>5</th>\n",
        "      <td> 1</td>\n",
        "      <td> 0.987006</td>\n",
        "      <td> 0</td>\n",
        "    </tr>\n",
        "    <tr>\n",
        "      <th>6</th>\n",
        "      <td> 1</td>\n",
        "      <td> 0.986910</td>\n",
        "      <td> 0</td>\n",
        "    </tr>\n",
        "    <tr>\n",
        "      <th>7</th>\n",
        "      <td> 1</td>\n",
        "      <td> 0.983876</td>\n",
        "      <td> 0</td>\n",
        "    </tr>\n",
        "    <tr>\n",
        "      <th>8</th>\n",
        "      <td> 1</td>\n",
        "      <td> 0.982612</td>\n",
        "      <td> 0</td>\n",
        "    </tr>\n",
        "    <tr>\n",
        "      <th>9</th>\n",
        "      <td> 1</td>\n",
        "      <td> 0.982185</td>\n",
        "      <td> 0</td>\n",
        "    </tr>\n",
        "  </tbody>\n",
        "</table>\n",
        "</div>"
       ],
       "metadata": {},
       "output_type": "pyout",
       "prompt_number": 66,
       "text": [
        "   big4      cash  foreignsales\n",
        "0     1  1.000000             1\n",
        "1     1  1.000000             0\n",
        "2     1  0.995029             0\n",
        "3     1  0.991649             0\n",
        "4     1  0.989680             0\n",
        "5     1  0.987006             0\n",
        "6     1  0.986910             0\n",
        "7     1  0.983876             0\n",
        "8     1  0.982612             0\n",
        "9     1  0.982185             0"
       ]
      }
     ],
     "prompt_number": 66
    },
    {
     "cell_type": "heading",
     "level": 2,
     "metadata": {},
     "source": [
      "Query for data from Google BigQuery"
     ]
    },
    {
     "cell_type": "markdown",
     "metadata": {},
     "source": [
      "Getting this to work takes some work.  Exit entirely out of notebook and any related processes.  Run the following commands at the terminal.  Hit the play button for In[1] in the first section and In[2] below.  Then hit the play button for In[3] below and hope for the best.  Update instructions here if you have any advice.<br/>\n",
      "<br/>\n",
      "conda update conda<br/>\n",
      "conda update ipython<br/>\n",
      "conda update pandas<br/>\n",
      "conda install --channel https://conda.binstar.org/auto python-gflags<br/>\n",
      "<br/>\n",
      "Also you must have the dataset 'ds' and table 'sample' set up in BigQuery for the query to run.  Add your specific project id below."
     ]
    },
    {
     "cell_type": "code",
     "collapsed": false,
     "input": [
      "projectId = 'aerial-vehicle-672'"
     ],
     "language": "python",
     "metadata": {},
     "outputs": [],
     "prompt_number": 2
    },
    {
     "cell_type": "code",
     "collapsed": false,
     "input": [
      "df4 = pd.read_gbq('SELECT big4, cash, foreignsales FROM ds.sample WHERE big4 = 1.0 ORDER BY cash DESC LIMIT 100', project_id = projectId)"
     ],
     "language": "python",
     "metadata": {},
     "outputs": [
      {
       "output_type": "stream",
       "stream": "stderr",
       "text": [
        "WARNING:root:This function, oauth2client.tools.run(), and the use of the gflags library are deprecated and will be removed in a future version of the library.\n"
       ]
      },
      {
       "output_type": "stream",
       "stream": "stdout",
       "text": [
        "Your browser has been opened to visit:\n",
        "\n",
        "    https://accounts.google.com/o/oauth2/auth?scope=https%3A%2F%2Fwww.googleapis.com%2Fauth%2Fbigquery&redirect_uri=http%3A%2F%2Flocalhost%3A8080%2F&response_type=code&client_id=495642085510-k0tmvj2m941jhre2nbqka17vqpjfddtd.apps.googleusercontent.com&access_type=offline\n",
        "\n",
        "If your browser is on a different machine then exit and re-run\n",
        "this application with the command-line parameter \n",
        "\n",
        "  --noauth_local_webserver\n",
        "\n",
        "Authentication successful."
       ]
      },
      {
       "output_type": "stream",
       "stream": "stdout",
       "text": [
        "\n",
        "Job not yet complete..."
       ]
      },
      {
       "output_type": "stream",
       "stream": "stdout",
       "text": [
        "\n"
       ]
      }
     ],
     "prompt_number": 3
    },
    {
     "cell_type": "code",
     "collapsed": false,
     "input": [
      "df4.head(10)"
     ],
     "language": "python",
     "metadata": {},
     "outputs": [
      {
       "html": [
        "<div style=\"max-height:1000px;max-width:1500px;overflow:auto;\">\n",
        "<table border=\"1\" class=\"dataframe\">\n",
        "  <thead>\n",
        "    <tr style=\"text-align: right;\">\n",
        "      <th></th>\n",
        "      <th>big4</th>\n",
        "      <th>cash</th>\n",
        "      <th>foreignsales</th>\n",
        "    </tr>\n",
        "  </thead>\n",
        "  <tbody>\n",
        "    <tr>\n",
        "      <th>0</th>\n",
        "      <td> 1</td>\n",
        "      <td> 1.000000</td>\n",
        "      <td> 1</td>\n",
        "    </tr>\n",
        "    <tr>\n",
        "      <th>1</th>\n",
        "      <td> 1</td>\n",
        "      <td> 1.000000</td>\n",
        "      <td> 0</td>\n",
        "    </tr>\n",
        "    <tr>\n",
        "      <th>2</th>\n",
        "      <td> 1</td>\n",
        "      <td> 0.995029</td>\n",
        "      <td> 0</td>\n",
        "    </tr>\n",
        "    <tr>\n",
        "      <th>3</th>\n",
        "      <td> 1</td>\n",
        "      <td> 0.991649</td>\n",
        "      <td> 0</td>\n",
        "    </tr>\n",
        "    <tr>\n",
        "      <th>4</th>\n",
        "      <td> 1</td>\n",
        "      <td> 0.989680</td>\n",
        "      <td> 0</td>\n",
        "    </tr>\n",
        "    <tr>\n",
        "      <th>5</th>\n",
        "      <td> 1</td>\n",
        "      <td> 0.987006</td>\n",
        "      <td> 0</td>\n",
        "    </tr>\n",
        "    <tr>\n",
        "      <th>6</th>\n",
        "      <td> 1</td>\n",
        "      <td> 0.986910</td>\n",
        "      <td> 0</td>\n",
        "    </tr>\n",
        "    <tr>\n",
        "      <th>7</th>\n",
        "      <td> 1</td>\n",
        "      <td> 0.983876</td>\n",
        "      <td> 0</td>\n",
        "    </tr>\n",
        "    <tr>\n",
        "      <th>8</th>\n",
        "      <td> 1</td>\n",
        "      <td> 0.982612</td>\n",
        "      <td> 0</td>\n",
        "    </tr>\n",
        "    <tr>\n",
        "      <th>9</th>\n",
        "      <td> 1</td>\n",
        "      <td> 0.982185</td>\n",
        "      <td> 0</td>\n",
        "    </tr>\n",
        "  </tbody>\n",
        "</table>\n",
        "</div>"
       ],
       "metadata": {},
       "output_type": "pyout",
       "prompt_number": 4,
       "text": [
        "   big4      cash  foreignsales\n",
        "0     1  1.000000             1\n",
        "1     1  1.000000             0\n",
        "2     1  0.995029             0\n",
        "3     1  0.991649             0\n",
        "4     1  0.989680             0\n",
        "5     1  0.987006             0\n",
        "6     1  0.986910             0\n",
        "7     1  0.983876             0\n",
        "8     1  0.982612             0\n",
        "9     1  0.982185             0"
       ]
      }
     ],
     "prompt_number": 4
    },
    {
     "cell_type": "code",
     "collapsed": false,
     "input": [
      "df4.count()"
     ],
     "language": "python",
     "metadata": {},
     "outputs": [
      {
       "metadata": {},
       "output_type": "pyout",
       "prompt_number": 5,
       "text": [
        "big4            100\n",
        "cash            100\n",
        "foreignsales    100\n",
        "dtype: int64"
       ]
      }
     ],
     "prompt_number": 5
    },
    {
     "cell_type": "code",
     "collapsed": false,
     "input": [],
     "language": "python",
     "metadata": {},
     "outputs": []
    }
   ],
   "metadata": {}
  }
 ]
}